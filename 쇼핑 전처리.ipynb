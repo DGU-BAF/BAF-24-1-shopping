{
 "cells": [
  {
   "cell_type": "markdown",
   "metadata": {},
   "source": [
    "# 쇼핑조 화이팅"
   ]
  },
  {
   "cell_type": "markdown",
   "metadata": {},
   "source": [
    "## 라이브러리 호출"
   ]
  },
  {
   "cell_type": "code",
   "execution_count": 2,
   "metadata": {},
   "outputs": [],
   "source": [
    "import numpy as np\n",
    "import pandas as pd\n",
    "import matplotlib.pyplot as plt\n",
    "import seaborn as sns\n",
    "\n",
    "#한글폰트 가져오기\n",
    "from matplotlib import rc\n",
    "rc('font', family='NanumGothic')\n",
    "\n",
    "# Warning 메세지를 뜨지 않게 해줌\n",
    "import warnings\n",
    "warnings.filterwarnings('ignore')"
   ]
  },
  {
   "cell_type": "markdown",
   "metadata": {},
   "source": [
    "## 데이터 불러오기"
   ]
  },
  {
   "cell_type": "code",
   "execution_count": 3,
   "metadata": {},
   "outputs": [],
   "source": [
    "df = pd.read_excel('./data/Online Retail.xlsx')\n",
    "df_origin = df.copy()"
   ]
  },
  {
   "cell_type": "markdown",
   "metadata": {},
   "source": [
    "### CustomerID가 결측인 행 삭제"
   ]
  },
  {
   "cell_type": "code",
   "execution_count": 4,
   "metadata": {},
   "outputs": [],
   "source": [
    "df = df[~df['CustomerID'].isna()]\n",
    "df['CustomerID'].isna().sum()\n",
    "df = df.reset_index(drop=True)\n",
    "df_NaN = df.copy()"
   ]
  },
  {
   "cell_type": "markdown",
   "metadata": {},
   "source": [
    "### 취소된 주문 삭제"
   ]
  },
  {
   "cell_type": "code",
   "execution_count": 5,
   "metadata": {},
   "outputs": [],
   "source": [
    "Stock_len = df['StockCode'].astype(str).str.len()\n",
    "df = df[~(df['InvoiceNo'].astype(str).str.startswith('C') & ((Stock_len == 5)|(Stock_len == 6)))]\n",
    "df_C = df.copy()"
   ]
  },
  {
   "cell_type": "code",
   "execution_count": 6,
   "metadata": {},
   "outputs": [],
   "source": [
    "#df = df_C.copy()"
   ]
  },
  {
   "cell_type": "markdown",
   "metadata": {},
   "source": [
    "### 관리자 정보 제거"
   ]
  },
  {
   "cell_type": "code",
   "execution_count": 7,
   "metadata": {},
   "outputs": [],
   "source": [
    "#M - Manual: 관리자 정보 + 해석불가\n",
    "df = df.drop(df[df['StockCode'] == 'M'].index)\n",
    "\n",
    "#D - DIscount, CRUK - Cancer Research UK 할인내역\n",
    "df = df.drop(df[df['StockCode'] == 'D'].index)\n",
    "df = df.drop(df[df['StockCode'] == 'CRUK'].index)\n",
    "\n",
    "#C2 - Carriage, DOT - DOTCOM POSTAGE, POST - POSTAGE: 배송료\n",
    "df = df.drop(df[df['StockCode'] == 'C2'].index)\n",
    "df = df.drop(df[df['StockCode'] == 'DOT'].index)\n",
    "df = df.drop(df[df['StockCode'] == 'POST'].index)\n",
    "\n",
    "#BANK CHARGES - Bank Charges: 소비 내역이 아님\n",
    "df = df.drop(df[df['StockCode'] == 'BANK CHARGES'].index)"
   ]
  },
  {
   "cell_type": "markdown",
   "metadata": {},
   "source": [
    "### Description 하나로 통일"
   ]
  },
  {
   "cell_type": "code",
   "execution_count": 8,
   "metadata": {},
   "outputs": [
    {
     "name": "stdout",
     "output_type": "stream",
     "text": [
      "통일 전 Description\n",
      "1              3447\n",
      "2               196\n",
      "3                15\n",
      "4                 2\n",
      "Name: count, dtype: int64\n",
      "통일 후 Description\n",
      "1              3660\n",
      "Name: count, dtype: int64\n"
     ]
    }
   ],
   "source": [
    "SC_Dec_count_before = df[['StockCode','Description']].groupby('StockCode').nunique()\n",
    "print('통일 전',SC_Dec_count_before.value_counts()) #2,3,4자리를 한자리로 수정 필요\n",
    "\n",
    "for i in [2,3,4]: #2~4자리\n",
    "    for j in SC_Dec_count_before[SC_Dec_count_before['Description'] == i].index: #groupby를 해서 2~4자리인 애들의 index가 StockCode임\n",
    "        first_description = df.loc[df['StockCode'] == j, 'Description'].iloc[0] #StockCode가 일치하는 행 -> Description을 출력 후 맨 처음 값을 저장\n",
    "        df.loc[df['StockCode'] == j, 'Description'] = first_description #저장한 값을 StockCode가 일치하는 모든 Description으로 변경\n",
    "\n",
    "SC_Dec_count_after = df[['StockCode','Description']].groupby('StockCode').nunique()\n",
    "print('통일 후',SC_Dec_count_after.value_counts())"
   ]
  },
  {
   "cell_type": "markdown",
   "metadata": {},
   "source": [
    "### 6자리 StockCode의 마지막자리 알파벳 삭제"
   ]
  },
  {
   "cell_type": "code",
   "execution_count": 9,
   "metadata": {},
   "outputs": [
    {
     "data": {
      "text/plain": [
       "StockCode\n",
       "85099    2941\n",
       "85123    2035\n",
       "22423    1724\n",
       "84879    1408\n",
       "47566    1397\n",
       "         ... \n",
       "90041       1\n",
       "20667       1\n",
       "90102       1\n",
       "77079       1\n",
       "23843       1\n",
       "Name: count, Length: 3196, dtype: int64"
      ]
     },
     "execution_count": 9,
     "metadata": {},
     "output_type": "execute_result"
    }
   ],
   "source": [
    "TF_Stock_6 = df['StockCode'].astype(str).str.len() == 6\n",
    "df.loc[TF_Stock_6,'StockCode'] = df[TF_Stock_6]['StockCode'].str[:-1]\n",
    "df['StockCode'].value_counts()"
   ]
  },
  {
   "cell_type": "markdown",
   "metadata": {},
   "source": [
    "### StockCode 자릿수 통일"
   ]
  },
  {
   "cell_type": "code",
   "execution_count": 10,
   "metadata": {},
   "outputs": [],
   "source": [
    "#15056BL\n",
    "df.loc[df['StockCode'] == '15056BL','StockCode'] = 15056\n",
    "#PAD\n",
    "df.loc[df['StockCode'] == 'PADS','StockCode'] =\t10000"
   ]
  },
  {
   "cell_type": "code",
   "execution_count": 11,
   "metadata": {},
   "outputs": [
    {
     "data": {
      "text/plain": [
       "StockCode\n",
       "5    396379\n",
       "Name: count, dtype: int64"
      ]
     },
     "execution_count": 11,
     "metadata": {},
     "output_type": "execute_result"
    }
   ],
   "source": [
    "df['StockCode'].astype(str).str.len().value_counts()"
   ]
  },
  {
   "cell_type": "code",
   "execution_count": 12,
   "metadata": {},
   "outputs": [
    {
     "data": {
      "text/html": [
       "<div>\n",
       "<style scoped>\n",
       "    .dataframe tbody tr th:only-of-type {\n",
       "        vertical-align: middle;\n",
       "    }\n",
       "\n",
       "    .dataframe tbody tr th {\n",
       "        vertical-align: top;\n",
       "    }\n",
       "\n",
       "    .dataframe thead th {\n",
       "        text-align: right;\n",
       "    }\n",
       "</style>\n",
       "<table border=\"1\" class=\"dataframe\">\n",
       "  <thead>\n",
       "    <tr style=\"text-align: right;\">\n",
       "      <th></th>\n",
       "      <th>InvoiceNo</th>\n",
       "      <th>StockCode</th>\n",
       "      <th>Description</th>\n",
       "      <th>Quantity</th>\n",
       "      <th>InvoiceDate</th>\n",
       "      <th>UnitPrice</th>\n",
       "      <th>CustomerID</th>\n",
       "      <th>Country</th>\n",
       "    </tr>\n",
       "  </thead>\n",
       "  <tbody>\n",
       "    <tr>\n",
       "      <th>25232</th>\n",
       "      <td>C539576</td>\n",
       "      <td>15056</td>\n",
       "      <td>EDWARDIAN PARASOL BLACK</td>\n",
       "      <td>-6</td>\n",
       "      <td>2010-12-20 12:25:00</td>\n",
       "      <td>5.95</td>\n",
       "      <td>14911.0</td>\n",
       "      <td>EIRE</td>\n",
       "    </tr>\n",
       "    <tr>\n",
       "      <th>101107</th>\n",
       "      <td>C549050</td>\n",
       "      <td>15056</td>\n",
       "      <td>EDWARDIAN PARASOL BLACK</td>\n",
       "      <td>-2</td>\n",
       "      <td>2011-04-06 10:17:00</td>\n",
       "      <td>5.95</td>\n",
       "      <td>13767.0</td>\n",
       "      <td>United Kingdom</td>\n",
       "    </tr>\n",
       "    <tr>\n",
       "      <th>155529</th>\n",
       "      <td>C555879</td>\n",
       "      <td>15056</td>\n",
       "      <td>EDWARDIAN PARASOL BLACK</td>\n",
       "      <td>-1</td>\n",
       "      <td>2011-06-07 15:31:00</td>\n",
       "      <td>4.95</td>\n",
       "      <td>14292.0</td>\n",
       "      <td>United Kingdom</td>\n",
       "    </tr>\n",
       "    <tr>\n",
       "      <th>203011</th>\n",
       "      <td>C561810</td>\n",
       "      <td>15056</td>\n",
       "      <td>EDWARDIAN PARASOL BLACK</td>\n",
       "      <td>-120</td>\n",
       "      <td>2011-07-29 15:12:00</td>\n",
       "      <td>4.95</td>\n",
       "      <td>14145.0</td>\n",
       "      <td>United Kingdom</td>\n",
       "    </tr>\n",
       "    <tr>\n",
       "      <th>212415</th>\n",
       "      <td>C562773</td>\n",
       "      <td>15056</td>\n",
       "      <td>EDWARDIAN PARASOL BLACK</td>\n",
       "      <td>-1</td>\n",
       "      <td>2011-08-09 12:18:00</td>\n",
       "      <td>5.95</td>\n",
       "      <td>17841.0</td>\n",
       "      <td>United Kingdom</td>\n",
       "    </tr>\n",
       "  </tbody>\n",
       "</table>\n",
       "</div>"
      ],
      "text/plain": [
       "       InvoiceNo StockCode              Description  Quantity  \\\n",
       "25232    C539576     15056  EDWARDIAN PARASOL BLACK        -6   \n",
       "101107   C549050     15056  EDWARDIAN PARASOL BLACK        -2   \n",
       "155529   C555879     15056  EDWARDIAN PARASOL BLACK        -1   \n",
       "203011   C561810     15056  EDWARDIAN PARASOL BLACK      -120   \n",
       "212415   C562773     15056  EDWARDIAN PARASOL BLACK        -1   \n",
       "\n",
       "               InvoiceDate  UnitPrice  CustomerID         Country  \n",
       "25232  2010-12-20 12:25:00       5.95     14911.0            EIRE  \n",
       "101107 2011-04-06 10:17:00       5.95     13767.0  United Kingdom  \n",
       "155529 2011-06-07 15:31:00       4.95     14292.0  United Kingdom  \n",
       "203011 2011-07-29 15:12:00       4.95     14145.0  United Kingdom  \n",
       "212415 2011-08-09 12:18:00       5.95     17841.0  United Kingdom  "
      ]
     },
     "metadata": {},
     "output_type": "display_data"
    }
   ],
   "source": [
    "#15056BL이 환불된 데이터가 남아있어 삭제\n",
    "display(df[df['InvoiceNo'].astype(str).str.startswith('C')])\n",
    "df = df.drop(df[df['InvoiceNo'].astype(str).str.startswith('C')].index)"
   ]
  },
  {
   "cell_type": "markdown",
   "metadata": {},
   "source": [
    "## 데이터 확인"
   ]
  },
  {
   "cell_type": "code",
   "execution_count": 13,
   "metadata": {},
   "outputs": [
    {
     "data": {
      "text/html": [
       "<div>\n",
       "<style scoped>\n",
       "    .dataframe tbody tr th:only-of-type {\n",
       "        vertical-align: middle;\n",
       "    }\n",
       "\n",
       "    .dataframe tbody tr th {\n",
       "        vertical-align: top;\n",
       "    }\n",
       "\n",
       "    .dataframe thead th {\n",
       "        text-align: right;\n",
       "    }\n",
       "</style>\n",
       "<table border=\"1\" class=\"dataframe\">\n",
       "  <thead>\n",
       "    <tr style=\"text-align: right;\">\n",
       "      <th></th>\n",
       "      <th>InvoiceNo</th>\n",
       "      <th>StockCode</th>\n",
       "      <th>Description</th>\n",
       "      <th>Quantity</th>\n",
       "      <th>InvoiceDate</th>\n",
       "      <th>UnitPrice</th>\n",
       "      <th>CustomerID</th>\n",
       "      <th>Country</th>\n",
       "    </tr>\n",
       "  </thead>\n",
       "  <tbody>\n",
       "    <tr>\n",
       "      <th>0</th>\n",
       "      <td>536365</td>\n",
       "      <td>85123</td>\n",
       "      <td>WHITE HANGING HEART T-LIGHT HOLDER</td>\n",
       "      <td>6</td>\n",
       "      <td>2010-12-01 08:26:00</td>\n",
       "      <td>2.55</td>\n",
       "      <td>17850.0</td>\n",
       "      <td>United Kingdom</td>\n",
       "    </tr>\n",
       "    <tr>\n",
       "      <th>1</th>\n",
       "      <td>536365</td>\n",
       "      <td>71053</td>\n",
       "      <td>WHITE METAL LANTERN</td>\n",
       "      <td>6</td>\n",
       "      <td>2010-12-01 08:26:00</td>\n",
       "      <td>3.39</td>\n",
       "      <td>17850.0</td>\n",
       "      <td>United Kingdom</td>\n",
       "    </tr>\n",
       "    <tr>\n",
       "      <th>2</th>\n",
       "      <td>536365</td>\n",
       "      <td>84406</td>\n",
       "      <td>CREAM CUPID HEARTS COAT HANGER</td>\n",
       "      <td>8</td>\n",
       "      <td>2010-12-01 08:26:00</td>\n",
       "      <td>2.75</td>\n",
       "      <td>17850.0</td>\n",
       "      <td>United Kingdom</td>\n",
       "    </tr>\n",
       "    <tr>\n",
       "      <th>3</th>\n",
       "      <td>536365</td>\n",
       "      <td>84029</td>\n",
       "      <td>KNITTED UNION FLAG HOT WATER BOTTLE</td>\n",
       "      <td>6</td>\n",
       "      <td>2010-12-01 08:26:00</td>\n",
       "      <td>3.39</td>\n",
       "      <td>17850.0</td>\n",
       "      <td>United Kingdom</td>\n",
       "    </tr>\n",
       "    <tr>\n",
       "      <th>4</th>\n",
       "      <td>536365</td>\n",
       "      <td>84029</td>\n",
       "      <td>RED WOOLLY HOTTIE WHITE HEART.</td>\n",
       "      <td>6</td>\n",
       "      <td>2010-12-01 08:26:00</td>\n",
       "      <td>3.39</td>\n",
       "      <td>17850.0</td>\n",
       "      <td>United Kingdom</td>\n",
       "    </tr>\n",
       "  </tbody>\n",
       "</table>\n",
       "</div>"
      ],
      "text/plain": [
       "  InvoiceNo StockCode                          Description  Quantity  \\\n",
       "0    536365     85123   WHITE HANGING HEART T-LIGHT HOLDER         6   \n",
       "1    536365     71053                  WHITE METAL LANTERN         6   \n",
       "2    536365     84406       CREAM CUPID HEARTS COAT HANGER         8   \n",
       "3    536365     84029  KNITTED UNION FLAG HOT WATER BOTTLE         6   \n",
       "4    536365     84029       RED WOOLLY HOTTIE WHITE HEART.         6   \n",
       "\n",
       "          InvoiceDate  UnitPrice  CustomerID         Country  \n",
       "0 2010-12-01 08:26:00       2.55     17850.0  United Kingdom  \n",
       "1 2010-12-01 08:26:00       3.39     17850.0  United Kingdom  \n",
       "2 2010-12-01 08:26:00       2.75     17850.0  United Kingdom  \n",
       "3 2010-12-01 08:26:00       3.39     17850.0  United Kingdom  \n",
       "4 2010-12-01 08:26:00       3.39     17850.0  United Kingdom  "
      ]
     },
     "metadata": {},
     "output_type": "display_data"
    },
    {
     "data": {
      "text/html": [
       "<div>\n",
       "<style scoped>\n",
       "    .dataframe tbody tr th:only-of-type {\n",
       "        vertical-align: middle;\n",
       "    }\n",
       "\n",
       "    .dataframe tbody tr th {\n",
       "        vertical-align: top;\n",
       "    }\n",
       "\n",
       "    .dataframe thead th {\n",
       "        text-align: right;\n",
       "    }\n",
       "</style>\n",
       "<table border=\"1\" class=\"dataframe\">\n",
       "  <thead>\n",
       "    <tr style=\"text-align: right;\">\n",
       "      <th></th>\n",
       "      <th>InvoiceNo</th>\n",
       "      <th>StockCode</th>\n",
       "      <th>Description</th>\n",
       "      <th>Quantity</th>\n",
       "      <th>InvoiceDate</th>\n",
       "      <th>UnitPrice</th>\n",
       "      <th>CustomerID</th>\n",
       "      <th>Country</th>\n",
       "    </tr>\n",
       "  </thead>\n",
       "  <tbody>\n",
       "    <tr>\n",
       "      <th>406824</th>\n",
       "      <td>581587</td>\n",
       "      <td>22613</td>\n",
       "      <td>PACK OF 20 SPACEBOY NAPKINS</td>\n",
       "      <td>12</td>\n",
       "      <td>2011-12-09 12:50:00</td>\n",
       "      <td>0.85</td>\n",
       "      <td>12680.0</td>\n",
       "      <td>France</td>\n",
       "    </tr>\n",
       "    <tr>\n",
       "      <th>406825</th>\n",
       "      <td>581587</td>\n",
       "      <td>22899</td>\n",
       "      <td>CHILDREN'S APRON DOLLY GIRL</td>\n",
       "      <td>6</td>\n",
       "      <td>2011-12-09 12:50:00</td>\n",
       "      <td>2.10</td>\n",
       "      <td>12680.0</td>\n",
       "      <td>France</td>\n",
       "    </tr>\n",
       "    <tr>\n",
       "      <th>406826</th>\n",
       "      <td>581587</td>\n",
       "      <td>23254</td>\n",
       "      <td>CHILDRENS CUTLERY DOLLY GIRL</td>\n",
       "      <td>4</td>\n",
       "      <td>2011-12-09 12:50:00</td>\n",
       "      <td>4.15</td>\n",
       "      <td>12680.0</td>\n",
       "      <td>France</td>\n",
       "    </tr>\n",
       "    <tr>\n",
       "      <th>406827</th>\n",
       "      <td>581587</td>\n",
       "      <td>23255</td>\n",
       "      <td>CHILDRENS CUTLERY CIRCUS PARADE</td>\n",
       "      <td>4</td>\n",
       "      <td>2011-12-09 12:50:00</td>\n",
       "      <td>4.15</td>\n",
       "      <td>12680.0</td>\n",
       "      <td>France</td>\n",
       "    </tr>\n",
       "    <tr>\n",
       "      <th>406828</th>\n",
       "      <td>581587</td>\n",
       "      <td>22138</td>\n",
       "      <td>BAKING SET 9 PIECE RETROSPOT</td>\n",
       "      <td>3</td>\n",
       "      <td>2011-12-09 12:50:00</td>\n",
       "      <td>4.95</td>\n",
       "      <td>12680.0</td>\n",
       "      <td>France</td>\n",
       "    </tr>\n",
       "  </tbody>\n",
       "</table>\n",
       "</div>"
      ],
      "text/plain": [
       "       InvoiceNo StockCode                      Description  Quantity  \\\n",
       "406824    581587     22613      PACK OF 20 SPACEBOY NAPKINS        12   \n",
       "406825    581587     22899     CHILDREN'S APRON DOLLY GIRL          6   \n",
       "406826    581587     23254    CHILDRENS CUTLERY DOLLY GIRL          4   \n",
       "406827    581587     23255  CHILDRENS CUTLERY CIRCUS PARADE         4   \n",
       "406828    581587     22138    BAKING SET 9 PIECE RETROSPOT          3   \n",
       "\n",
       "               InvoiceDate  UnitPrice  CustomerID Country  \n",
       "406824 2011-12-09 12:50:00       0.85     12680.0  France  \n",
       "406825 2011-12-09 12:50:00       2.10     12680.0  France  \n",
       "406826 2011-12-09 12:50:00       4.15     12680.0  France  \n",
       "406827 2011-12-09 12:50:00       4.15     12680.0  France  \n",
       "406828 2011-12-09 12:50:00       4.95     12680.0  France  "
      ]
     },
     "metadata": {},
     "output_type": "display_data"
    }
   ],
   "source": [
    "display(df.head())\n",
    "display(df.tail())"
   ]
  },
  {
   "cell_type": "code",
   "execution_count": 14,
   "metadata": {},
   "outputs": [
    {
     "name": "stdout",
     "output_type": "stream",
     "text": [
      "<class 'pandas.core.frame.DataFrame'>\n",
      "Index: 396374 entries, 0 to 406828\n",
      "Data columns (total 8 columns):\n",
      " #   Column       Non-Null Count   Dtype         \n",
      "---  ------       --------------   -----         \n",
      " 0   InvoiceNo    396374 non-null  object        \n",
      " 1   StockCode    396374 non-null  object        \n",
      " 2   Description  396374 non-null  object        \n",
      " 3   Quantity     396374 non-null  int64         \n",
      " 4   InvoiceDate  396374 non-null  datetime64[ns]\n",
      " 5   UnitPrice    396374 non-null  float64       \n",
      " 6   CustomerID   396374 non-null  float64       \n",
      " 7   Country      396374 non-null  object        \n",
      "dtypes: datetime64[ns](1), float64(2), int64(1), object(4)\n",
      "memory usage: 27.2+ MB\n",
      "None\n",
      "<class 'pandas.core.frame.DataFrame'>\n",
      "Index: 396374 entries, 0 to 406828\n",
      "Data columns (total 8 columns):\n",
      " #   Column       Non-Null Count   Dtype         \n",
      "---  ------       --------------   -----         \n",
      " 0   InvoiceNo    396374 non-null  int32         \n",
      " 1   StockCode    396374 non-null  int32         \n",
      " 2   Description  396374 non-null  object        \n",
      " 3   Quantity     396374 non-null  int64         \n",
      " 4   InvoiceDate  396374 non-null  datetime64[ns]\n",
      " 5   UnitPrice    396374 non-null  float64       \n",
      " 6   CustomerID   396374 non-null  int32         \n",
      " 7   Country      396374 non-null  object        \n",
      "dtypes: datetime64[ns](1), float64(1), int32(3), int64(1), object(2)\n",
      "memory usage: 22.7+ MB\n",
      "None\n"
     ]
    }
   ],
   "source": [
    "print(df.info())\n",
    "df['InvoiceNo'] = df['InvoiceNo'].astype(int)\n",
    "df['StockCode'] = df['StockCode'].astype(int)\n",
    "df['CustomerID'] = df['CustomerID'].astype(int)\n",
    "print(df.info())"
   ]
  },
  {
   "cell_type": "code",
   "execution_count": 15,
   "metadata": {},
   "outputs": [
    {
     "data": {
      "text/html": [
       "<div>\n",
       "<style scoped>\n",
       "    .dataframe tbody tr th:only-of-type {\n",
       "        vertical-align: middle;\n",
       "    }\n",
       "\n",
       "    .dataframe tbody tr th {\n",
       "        vertical-align: top;\n",
       "    }\n",
       "\n",
       "    .dataframe thead th {\n",
       "        text-align: right;\n",
       "    }\n",
       "</style>\n",
       "<table border=\"1\" class=\"dataframe\">\n",
       "  <thead>\n",
       "    <tr style=\"text-align: right;\">\n",
       "      <th></th>\n",
       "      <th>InvoiceNo</th>\n",
       "      <th>StockCode</th>\n",
       "      <th>Quantity</th>\n",
       "      <th>InvoiceDate</th>\n",
       "      <th>UnitPrice</th>\n",
       "      <th>CustomerID</th>\n",
       "    </tr>\n",
       "  </thead>\n",
       "  <tbody>\n",
       "    <tr>\n",
       "      <th>count</th>\n",
       "      <td>396374.000000</td>\n",
       "      <td>396374.000000</td>\n",
       "      <td>396374.000000</td>\n",
       "      <td>396374</td>\n",
       "      <td>396374.000000</td>\n",
       "      <td>396374.000000</td>\n",
       "    </tr>\n",
       "    <tr>\n",
       "      <th>mean</th>\n",
       "      <td>560618.913239</td>\n",
       "      <td>30762.967889</td>\n",
       "      <td>13.046353</td>\n",
       "      <td>2011-07-11 00:04:48.847805440</td>\n",
       "      <td>2.867954</td>\n",
       "      <td>15301.603824</td>\n",
       "    </tr>\n",
       "    <tr>\n",
       "      <th>min</th>\n",
       "      <td>536365.000000</td>\n",
       "      <td>10000.000000</td>\n",
       "      <td>1.000000</td>\n",
       "      <td>2010-12-01 08:26:00</td>\n",
       "      <td>0.000000</td>\n",
       "      <td>12346.000000</td>\n",
       "    </tr>\n",
       "    <tr>\n",
       "      <th>25%</th>\n",
       "      <td>549235.000000</td>\n",
       "      <td>22027.000000</td>\n",
       "      <td>2.000000</td>\n",
       "      <td>2011-04-07 11:16:00</td>\n",
       "      <td>1.250000</td>\n",
       "      <td>13975.000000</td>\n",
       "    </tr>\n",
       "    <tr>\n",
       "      <th>50%</th>\n",
       "      <td>561893.000000</td>\n",
       "      <td>22666.000000</td>\n",
       "      <td>6.000000</td>\n",
       "      <td>2011-07-31 14:39:00</td>\n",
       "      <td>1.950000</td>\n",
       "      <td>15159.000000</td>\n",
       "    </tr>\n",
       "    <tr>\n",
       "      <th>75%</th>\n",
       "      <td>572092.000000</td>\n",
       "      <td>23271.000000</td>\n",
       "      <td>12.000000</td>\n",
       "      <td>2011-10-20 14:41:00</td>\n",
       "      <td>3.750000</td>\n",
       "      <td>16803.000000</td>\n",
       "    </tr>\n",
       "    <tr>\n",
       "      <th>max</th>\n",
       "      <td>581587.000000</td>\n",
       "      <td>90214.000000</td>\n",
       "      <td>80995.000000</td>\n",
       "      <td>2011-12-09 12:50:00</td>\n",
       "      <td>649.500000</td>\n",
       "      <td>18287.000000</td>\n",
       "    </tr>\n",
       "    <tr>\n",
       "      <th>std</th>\n",
       "      <td>13106.400653</td>\n",
       "      <td>20606.305554</td>\n",
       "      <td>180.732689</td>\n",
       "      <td>NaN</td>\n",
       "      <td>4.264554</td>\n",
       "      <td>1709.976485</td>\n",
       "    </tr>\n",
       "  </tbody>\n",
       "</table>\n",
       "</div>"
      ],
      "text/plain": [
       "           InvoiceNo      StockCode       Quantity  \\\n",
       "count  396374.000000  396374.000000  396374.000000   \n",
       "mean   560618.913239   30762.967889      13.046353   \n",
       "min    536365.000000   10000.000000       1.000000   \n",
       "25%    549235.000000   22027.000000       2.000000   \n",
       "50%    561893.000000   22666.000000       6.000000   \n",
       "75%    572092.000000   23271.000000      12.000000   \n",
       "max    581587.000000   90214.000000   80995.000000   \n",
       "std     13106.400653   20606.305554     180.732689   \n",
       "\n",
       "                         InvoiceDate      UnitPrice     CustomerID  \n",
       "count                         396374  396374.000000  396374.000000  \n",
       "mean   2011-07-11 00:04:48.847805440       2.867954   15301.603824  \n",
       "min              2010-12-01 08:26:00       0.000000   12346.000000  \n",
       "25%              2011-04-07 11:16:00       1.250000   13975.000000  \n",
       "50%              2011-07-31 14:39:00       1.950000   15159.000000  \n",
       "75%              2011-10-20 14:41:00       3.750000   16803.000000  \n",
       "max              2011-12-09 12:50:00     649.500000   18287.000000  \n",
       "std                              NaN       4.264554    1709.976485  "
      ]
     },
     "execution_count": 15,
     "metadata": {},
     "output_type": "execute_result"
    }
   ],
   "source": [
    "df.describe()"
   ]
  },
  {
   "cell_type": "code",
   "execution_count": 16,
   "metadata": {},
   "outputs": [],
   "source": [
    "#df.to_csv('./data/Online Retail_df.csv', index = False)"
   ]
  }
 ],
 "metadata": {
  "kernelspec": {
   "display_name": "base",
   "language": "python",
   "name": "python3"
  },
  "language_info": {
   "codemirror_mode": {
    "name": "ipython",
    "version": 3
   },
   "file_extension": ".py",
   "mimetype": "text/x-python",
   "name": "python",
   "nbconvert_exporter": "python",
   "pygments_lexer": "ipython3",
   "version": "3.11.5"
  }
 },
 "nbformat": 4,
 "nbformat_minor": 2
}
