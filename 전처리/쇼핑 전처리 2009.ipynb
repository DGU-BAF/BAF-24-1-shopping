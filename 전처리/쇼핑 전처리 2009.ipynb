{
 "cells": [
  {
   "cell_type": "markdown",
   "metadata": {},
   "source": [
    "### 변수 설명\n",
    "    InvoiceNo(송장번호) : 각 거래에 고유하게 할당된 6자리 정수.('C'로 시작하면 취소를 나타냄)\n",
    "    StockCode(제품코드): 각 개별 제품에 고유하게 할당된 5자리 정수.\n",
    "    Description(설명): 상품명\n",
    "    Quantity(수량): 거래당 각 제품(항목)의 수량\n",
    "    InvoiceDate(송장날짜): 각 거래가 발생한 날짜와 시간\n",
    "    UnitPrice(단가) : 단위당 제품 가격\n",
    "    CustomerID(고객ID): 각 고객에게 고유하게 할당된 5자리 정수\n",
    "    Country(국가): 각 고객이 거주하는 국가의 이름"
   ]
  },
  {
   "cell_type": "markdown",
   "metadata": {},
   "source": [
    "### 라이브러리 호출"
   ]
  },
  {
   "cell_type": "code",
   "execution_count": 125,
   "metadata": {},
   "outputs": [],
   "source": [
    "import numpy as np\n",
    "import pandas as pd\n",
    "import matplotlib.pyplot as plt\n",
    "import seaborn as sns\n",
    "\n",
    "#한글폰트 가져오기\n",
    "from matplotlib import rc\n",
    "rc('font', family='NanumGothic')\n",
    "\n",
    "# Warning 메세지를 뜨지 않게 해줌\n",
    "import warnings\n",
    "warnings.filterwarnings('ignore')"
   ]
  },
  {
   "cell_type": "code",
   "execution_count": 129,
   "metadata": {},
   "outputs": [],
   "source": [
    "data = pd.read_csv('./online_retail_II.csv')"
   ]
  },
  {
   "cell_type": "code",
   "execution_count": 130,
   "metadata": {},
   "outputs": [
    {
     "data": {
      "text/html": [
       "<div>\n",
       "<style scoped>\n",
       "    .dataframe tbody tr th:only-of-type {\n",
       "        vertical-align: middle;\n",
       "    }\n",
       "\n",
       "    .dataframe tbody tr th {\n",
       "        vertical-align: top;\n",
       "    }\n",
       "\n",
       "    .dataframe thead th {\n",
       "        text-align: right;\n",
       "    }\n",
       "</style>\n",
       "<table border=\"1\" class=\"dataframe\">\n",
       "  <thead>\n",
       "    <tr style=\"text-align: right;\">\n",
       "      <th></th>\n",
       "      <th>Quantity</th>\n",
       "      <th>Price</th>\n",
       "      <th>Customer ID</th>\n",
       "    </tr>\n",
       "  </thead>\n",
       "  <tbody>\n",
       "    <tr>\n",
       "      <th>count</th>\n",
       "      <td>1.067371e+06</td>\n",
       "      <td>1.067371e+06</td>\n",
       "      <td>824364.000000</td>\n",
       "    </tr>\n",
       "    <tr>\n",
       "      <th>mean</th>\n",
       "      <td>9.938898e+00</td>\n",
       "      <td>4.649388e+00</td>\n",
       "      <td>15324.638504</td>\n",
       "    </tr>\n",
       "    <tr>\n",
       "      <th>std</th>\n",
       "      <td>1.727058e+02</td>\n",
       "      <td>1.235531e+02</td>\n",
       "      <td>1697.464450</td>\n",
       "    </tr>\n",
       "    <tr>\n",
       "      <th>min</th>\n",
       "      <td>-8.099500e+04</td>\n",
       "      <td>-5.359436e+04</td>\n",
       "      <td>12346.000000</td>\n",
       "    </tr>\n",
       "    <tr>\n",
       "      <th>25%</th>\n",
       "      <td>1.000000e+00</td>\n",
       "      <td>1.250000e+00</td>\n",
       "      <td>13975.000000</td>\n",
       "    </tr>\n",
       "    <tr>\n",
       "      <th>50%</th>\n",
       "      <td>3.000000e+00</td>\n",
       "      <td>2.100000e+00</td>\n",
       "      <td>15255.000000</td>\n",
       "    </tr>\n",
       "    <tr>\n",
       "      <th>75%</th>\n",
       "      <td>1.000000e+01</td>\n",
       "      <td>4.150000e+00</td>\n",
       "      <td>16797.000000</td>\n",
       "    </tr>\n",
       "    <tr>\n",
       "      <th>max</th>\n",
       "      <td>8.099500e+04</td>\n",
       "      <td>3.897000e+04</td>\n",
       "      <td>18287.000000</td>\n",
       "    </tr>\n",
       "  </tbody>\n",
       "</table>\n",
       "</div>"
      ],
      "text/plain": [
       "           Quantity         Price    Customer ID\n",
       "count  1.067371e+06  1.067371e+06  824364.000000\n",
       "mean   9.938898e+00  4.649388e+00   15324.638504\n",
       "std    1.727058e+02  1.235531e+02    1697.464450\n",
       "min   -8.099500e+04 -5.359436e+04   12346.000000\n",
       "25%    1.000000e+00  1.250000e+00   13975.000000\n",
       "50%    3.000000e+00  2.100000e+00   15255.000000\n",
       "75%    1.000000e+01  4.150000e+00   16797.000000\n",
       "max    8.099500e+04  3.897000e+04   18287.000000"
      ]
     },
     "execution_count": 130,
     "metadata": {},
     "output_type": "execute_result"
    }
   ],
   "source": [
    "data.describe()"
   ]
  },
  {
   "cell_type": "code",
   "execution_count": 131,
   "metadata": {},
   "outputs": [
    {
     "name": "stdout",
     "output_type": "stream",
     "text": [
      "<class 'pandas.core.frame.DataFrame'>\n",
      "RangeIndex: 1067371 entries, 0 to 1067370\n",
      "Data columns (total 8 columns):\n",
      " #   Column       Non-Null Count    Dtype  \n",
      "---  ------       --------------    -----  \n",
      " 0   Invoice      1067371 non-null  object \n",
      " 1   StockCode    1067371 non-null  object \n",
      " 2   Description  1062989 non-null  object \n",
      " 3   Quantity     1067371 non-null  int64  \n",
      " 4   InvoiceDate  1067371 non-null  object \n",
      " 5   Price        1067371 non-null  float64\n",
      " 6   Customer ID  824364 non-null   float64\n",
      " 7   Country      1067371 non-null  object \n",
      "dtypes: float64(2), int64(1), object(5)\n",
      "memory usage: 65.1+ MB\n"
     ]
    }
   ],
   "source": [
    "data.info()"
   ]
  },
  {
   "cell_type": "markdown",
   "metadata": {},
   "source": [
    "### InvoiceDate 주문날짜 -> datetime으로 변경"
   ]
  },
  {
   "cell_type": "code",
   "execution_count": 132,
   "metadata": {},
   "outputs": [
    {
     "data": {
      "text/plain": [
       "count                 1067371\n",
       "unique                  47635\n",
       "top       2010-12-06 16:57:00\n",
       "freq                     1350\n",
       "Name: InvoiceDate, dtype: object"
      ]
     },
     "execution_count": 132,
     "metadata": {},
     "output_type": "execute_result"
    }
   ],
   "source": [
    "data['InvoiceDate'].describe()"
   ]
  },
  {
   "cell_type": "code",
   "execution_count": 133,
   "metadata": {},
   "outputs": [],
   "source": [
    "data['InvoiceDate'] = pd.to_datetime(data['InvoiceDate'])"
   ]
  },
  {
   "cell_type": "code",
   "execution_count": 134,
   "metadata": {},
   "outputs": [
    {
     "data": {
      "text/plain": [
       "count                          1067371\n",
       "mean     2011-01-02 21:13:55.394028544\n",
       "min                2009-12-01 07:45:00\n",
       "25%                2010-07-09 09:46:00\n",
       "50%                2010-12-07 15:28:00\n",
       "75%                2011-07-22 10:23:00\n",
       "max                2011-12-09 12:50:00\n",
       "Name: InvoiceDate, dtype: object"
      ]
     },
     "execution_count": 134,
     "metadata": {},
     "output_type": "execute_result"
    }
   ],
   "source": [
    "data['InvoiceDate'].describe()"
   ]
  },
  {
   "cell_type": "markdown",
   "metadata": {},
   "source": [
    "### 2009년 데이터"
   ]
  },
  {
   "cell_type": "code",
   "execution_count": 135,
   "metadata": {},
   "outputs": [],
   "source": [
    "#2010년 12월 1일 이전 데이터만 사용\n",
    "beforedf = data[data['InvoiceDate'] < '2010-12-01']"
   ]
  },
  {
   "cell_type": "code",
   "execution_count": 136,
   "metadata": {},
   "outputs": [
    {
     "data": {
      "text/html": [
       "<div>\n",
       "<style scoped>\n",
       "    .dataframe tbody tr th:only-of-type {\n",
       "        vertical-align: middle;\n",
       "    }\n",
       "\n",
       "    .dataframe tbody tr th {\n",
       "        vertical-align: top;\n",
       "    }\n",
       "\n",
       "    .dataframe thead th {\n",
       "        text-align: right;\n",
       "    }\n",
       "</style>\n",
       "<table border=\"1\" class=\"dataframe\">\n",
       "  <thead>\n",
       "    <tr style=\"text-align: right;\">\n",
       "      <th></th>\n",
       "      <th>Invoice</th>\n",
       "      <th>StockCode</th>\n",
       "      <th>Description</th>\n",
       "      <th>Quantity</th>\n",
       "      <th>InvoiceDate</th>\n",
       "      <th>Price</th>\n",
       "      <th>Customer ID</th>\n",
       "      <th>Country</th>\n",
       "    </tr>\n",
       "  </thead>\n",
       "  <tbody>\n",
       "    <tr>\n",
       "      <th>0</th>\n",
       "      <td>489434</td>\n",
       "      <td>85048</td>\n",
       "      <td>15CM CHRISTMAS GLASS BALL 20 LIGHTS</td>\n",
       "      <td>12</td>\n",
       "      <td>2009-12-01 07:45:00</td>\n",
       "      <td>6.95</td>\n",
       "      <td>13085.0</td>\n",
       "      <td>United Kingdom</td>\n",
       "    </tr>\n",
       "    <tr>\n",
       "      <th>1</th>\n",
       "      <td>489434</td>\n",
       "      <td>79323P</td>\n",
       "      <td>PINK CHERRY LIGHTS</td>\n",
       "      <td>12</td>\n",
       "      <td>2009-12-01 07:45:00</td>\n",
       "      <td>6.75</td>\n",
       "      <td>13085.0</td>\n",
       "      <td>United Kingdom</td>\n",
       "    </tr>\n",
       "    <tr>\n",
       "      <th>2</th>\n",
       "      <td>489434</td>\n",
       "      <td>79323W</td>\n",
       "      <td>WHITE CHERRY LIGHTS</td>\n",
       "      <td>12</td>\n",
       "      <td>2009-12-01 07:45:00</td>\n",
       "      <td>6.75</td>\n",
       "      <td>13085.0</td>\n",
       "      <td>United Kingdom</td>\n",
       "    </tr>\n",
       "    <tr>\n",
       "      <th>3</th>\n",
       "      <td>489434</td>\n",
       "      <td>22041</td>\n",
       "      <td>RECORD FRAME 7\" SINGLE SIZE</td>\n",
       "      <td>48</td>\n",
       "      <td>2009-12-01 07:45:00</td>\n",
       "      <td>2.10</td>\n",
       "      <td>13085.0</td>\n",
       "      <td>United Kingdom</td>\n",
       "    </tr>\n",
       "    <tr>\n",
       "      <th>4</th>\n",
       "      <td>489434</td>\n",
       "      <td>21232</td>\n",
       "      <td>STRAWBERRY CERAMIC TRINKET BOX</td>\n",
       "      <td>24</td>\n",
       "      <td>2009-12-01 07:45:00</td>\n",
       "      <td>1.25</td>\n",
       "      <td>13085.0</td>\n",
       "      <td>United Kingdom</td>\n",
       "    </tr>\n",
       "    <tr>\n",
       "      <th>...</th>\n",
       "      <td>...</td>\n",
       "      <td>...</td>\n",
       "      <td>...</td>\n",
       "      <td>...</td>\n",
       "      <td>...</td>\n",
       "      <td>...</td>\n",
       "      <td>...</td>\n",
       "      <td>...</td>\n",
       "    </tr>\n",
       "    <tr>\n",
       "      <th>502933</th>\n",
       "      <td>536364</td>\n",
       "      <td>21175</td>\n",
       "      <td>GIN + TONIC DIET METAL SIGN</td>\n",
       "      <td>12</td>\n",
       "      <td>2010-11-30 19:35:00</td>\n",
       "      <td>2.10</td>\n",
       "      <td>14441.0</td>\n",
       "      <td>United Kingdom</td>\n",
       "    </tr>\n",
       "    <tr>\n",
       "      <th>502934</th>\n",
       "      <td>536364</td>\n",
       "      <td>21524</td>\n",
       "      <td>DOORMAT SPOTTY HOME SWEET HOME</td>\n",
       "      <td>2</td>\n",
       "      <td>2010-11-30 19:35:00</td>\n",
       "      <td>7.95</td>\n",
       "      <td>14441.0</td>\n",
       "      <td>United Kingdom</td>\n",
       "    </tr>\n",
       "    <tr>\n",
       "      <th>502935</th>\n",
       "      <td>536364</td>\n",
       "      <td>21098</td>\n",
       "      <td>CHRISTMAS TOILET ROLL</td>\n",
       "      <td>12</td>\n",
       "      <td>2010-11-30 19:35:00</td>\n",
       "      <td>1.25</td>\n",
       "      <td>14441.0</td>\n",
       "      <td>United Kingdom</td>\n",
       "    </tr>\n",
       "    <tr>\n",
       "      <th>502936</th>\n",
       "      <td>536364</td>\n",
       "      <td>21181</td>\n",
       "      <td>PLEASE ONE PERSON METAL SIGN</td>\n",
       "      <td>24</td>\n",
       "      <td>2010-11-30 19:35:00</td>\n",
       "      <td>2.10</td>\n",
       "      <td>14441.0</td>\n",
       "      <td>United Kingdom</td>\n",
       "    </tr>\n",
       "    <tr>\n",
       "      <th>502937</th>\n",
       "      <td>536364</td>\n",
       "      <td>22415</td>\n",
       "      <td>WHITE TISSUE REAM</td>\n",
       "      <td>10</td>\n",
       "      <td>2010-11-30 19:35:00</td>\n",
       "      <td>7.95</td>\n",
       "      <td>14441.0</td>\n",
       "      <td>United Kingdom</td>\n",
       "    </tr>\n",
       "  </tbody>\n",
       "</table>\n",
       "<p>502938 rows × 8 columns</p>\n",
       "</div>"
      ],
      "text/plain": [
       "       Invoice StockCode                          Description  Quantity  \\\n",
       "0       489434     85048  15CM CHRISTMAS GLASS BALL 20 LIGHTS        12   \n",
       "1       489434    79323P                   PINK CHERRY LIGHTS        12   \n",
       "2       489434    79323W                  WHITE CHERRY LIGHTS        12   \n",
       "3       489434     22041         RECORD FRAME 7\" SINGLE SIZE         48   \n",
       "4       489434     21232       STRAWBERRY CERAMIC TRINKET BOX        24   \n",
       "...        ...       ...                                  ...       ...   \n",
       "502933  536364     21175          GIN + TONIC DIET METAL SIGN        12   \n",
       "502934  536364     21524       DOORMAT SPOTTY HOME SWEET HOME         2   \n",
       "502935  536364     21098                CHRISTMAS TOILET ROLL        12   \n",
       "502936  536364     21181         PLEASE ONE PERSON METAL SIGN        24   \n",
       "502937  536364     22415                    WHITE TISSUE REAM        10   \n",
       "\n",
       "               InvoiceDate  Price  Customer ID         Country  \n",
       "0      2009-12-01 07:45:00   6.95      13085.0  United Kingdom  \n",
       "1      2009-12-01 07:45:00   6.75      13085.0  United Kingdom  \n",
       "2      2009-12-01 07:45:00   6.75      13085.0  United Kingdom  \n",
       "3      2009-12-01 07:45:00   2.10      13085.0  United Kingdom  \n",
       "4      2009-12-01 07:45:00   1.25      13085.0  United Kingdom  \n",
       "...                    ...    ...          ...             ...  \n",
       "502933 2010-11-30 19:35:00   2.10      14441.0  United Kingdom  \n",
       "502934 2010-11-30 19:35:00   7.95      14441.0  United Kingdom  \n",
       "502935 2010-11-30 19:35:00   1.25      14441.0  United Kingdom  \n",
       "502936 2010-11-30 19:35:00   2.10      14441.0  United Kingdom  \n",
       "502937 2010-11-30 19:35:00   7.95      14441.0  United Kingdom  \n",
       "\n",
       "[502938 rows x 8 columns]"
      ]
     },
     "execution_count": 136,
     "metadata": {},
     "output_type": "execute_result"
    }
   ],
   "source": [
    "beforedf"
   ]
  },
  {
   "cell_type": "code",
   "execution_count": 139,
   "metadata": {},
   "outputs": [
    {
     "data": {
      "text/plain": [
       "Invoice\n",
       "536031     582\n",
       "490074     580\n",
       "491966     579\n",
       "490149     559\n",
       "491969     548\n",
       "          ... \n",
       "C525580      1\n",
       "C495772      1\n",
       "500873       1\n",
       "495773       1\n",
       "C515299      1\n",
       "Name: count, Length: 27728, dtype: int64"
      ]
     },
     "execution_count": 139,
     "metadata": {},
     "output_type": "execute_result"
    }
   ],
   "source": [
    "beforedf['Invoice'].value_counts()"
   ]
  },
  {
   "cell_type": "markdown",
   "metadata": {},
   "source": [
    "    주문수 27728"
   ]
  },
  {
   "cell_type": "code",
   "execution_count": 138,
   "metadata": {},
   "outputs": [],
   "source": [
    "df = beforedf.copy()"
   ]
  },
  {
   "cell_type": "markdown",
   "metadata": {},
   "source": [
    "### 결측치"
   ]
  },
  {
   "cell_type": "code",
   "execution_count": 140,
   "metadata": {},
   "outputs": [
    {
     "name": "stdout",
     "output_type": "stream",
     "text": [
      "<class 'pandas.core.frame.DataFrame'>\n",
      "Index: 502938 entries, 0 to 502937\n",
      "Data columns (total 8 columns):\n",
      " #   Column       Non-Null Count   Dtype         \n",
      "---  ------       --------------   -----         \n",
      " 0   Invoice      502938 non-null  object        \n",
      " 1   StockCode    502938 non-null  object        \n",
      " 2   Description  500117 non-null  object        \n",
      " 3   Quantity     502938 non-null  int64         \n",
      " 4   InvoiceDate  502938 non-null  datetime64[ns]\n",
      " 5   Price        502938 non-null  float64       \n",
      " 6   Customer ID  402731 non-null  float64       \n",
      " 7   Country      502938 non-null  object        \n",
      "dtypes: datetime64[ns](1), float64(2), int64(1), object(4)\n",
      "memory usage: 34.5+ MB\n",
      "None\n"
     ]
    }
   ],
   "source": [
    "print(df.info())"
   ]
  },
  {
   "cell_type": "code",
   "execution_count": 141,
   "metadata": {},
   "outputs": [
    {
     "name": "stdout",
     "output_type": "stream",
     "text": [
      "상품 설명 변수의 결측치 개수: 4382\n",
      "고객아이디 결측치 개수: 243007\n"
     ]
    }
   ],
   "source": [
    "print('상품 설명 변수의 결측치 개수:',data['Description'].isna().sum())\n",
    "print('고객아이디 결측치 개수:',data['Customer ID'].isna().sum())"
   ]
  },
  {
   "cell_type": "code",
   "execution_count": 142,
   "metadata": {},
   "outputs": [
    {
     "data": {
      "text/html": [
       "<div>\n",
       "<style scoped>\n",
       "    .dataframe tbody tr th:only-of-type {\n",
       "        vertical-align: middle;\n",
       "    }\n",
       "\n",
       "    .dataframe tbody tr th {\n",
       "        vertical-align: top;\n",
       "    }\n",
       "\n",
       "    .dataframe thead th {\n",
       "        text-align: right;\n",
       "    }\n",
       "</style>\n",
       "<table border=\"1\" class=\"dataframe\">\n",
       "  <thead>\n",
       "    <tr style=\"text-align: right;\">\n",
       "      <th></th>\n",
       "      <th>Quantity</th>\n",
       "      <th>InvoiceDate</th>\n",
       "      <th>Price</th>\n",
       "      <th>Customer ID</th>\n",
       "    </tr>\n",
       "  </thead>\n",
       "  <tbody>\n",
       "    <tr>\n",
       "      <th>count</th>\n",
       "      <td>502938.000000</td>\n",
       "      <td>502938</td>\n",
       "      <td>502938.000000</td>\n",
       "      <td>402731.000000</td>\n",
       "    </tr>\n",
       "    <tr>\n",
       "      <th>mean</th>\n",
       "      <td>10.469269</td>\n",
       "      <td>2010-06-21 07:16:18.978084608</td>\n",
       "      <td>4.568358</td>\n",
       "      <td>15352.163156</td>\n",
       "    </tr>\n",
       "    <tr>\n",
       "      <th>min</th>\n",
       "      <td>-9600.000000</td>\n",
       "      <td>2009-12-01 07:45:00</td>\n",
       "      <td>-53594.360000</td>\n",
       "      <td>12346.000000</td>\n",
       "    </tr>\n",
       "    <tr>\n",
       "      <th>25%</th>\n",
       "      <td>1.000000</td>\n",
       "      <td>2010-03-16 13:00:00</td>\n",
       "      <td>1.250000</td>\n",
       "      <td>13979.000000</td>\n",
       "    </tr>\n",
       "    <tr>\n",
       "      <th>50%</th>\n",
       "      <td>3.000000</td>\n",
       "      <td>2010-06-27 13:29:00</td>\n",
       "      <td>2.100000</td>\n",
       "      <td>15311.000000</td>\n",
       "    </tr>\n",
       "    <tr>\n",
       "      <th>75%</th>\n",
       "      <td>10.000000</td>\n",
       "      <td>2010-10-07 11:46:00</td>\n",
       "      <td>4.210000</td>\n",
       "      <td>16794.000000</td>\n",
       "    </tr>\n",
       "    <tr>\n",
       "      <th>max</th>\n",
       "      <td>19152.000000</td>\n",
       "      <td>2010-11-30 19:35:00</td>\n",
       "      <td>25111.090000</td>\n",
       "      <td>18287.000000</td>\n",
       "    </tr>\n",
       "    <tr>\n",
       "      <th>std</th>\n",
       "      <td>108.678975</td>\n",
       "      <td>NaN</td>\n",
       "      <td>143.818137</td>\n",
       "      <td>1677.027739</td>\n",
       "    </tr>\n",
       "  </tbody>\n",
       "</table>\n",
       "</div>"
      ],
      "text/plain": [
       "            Quantity                    InvoiceDate          Price  \\\n",
       "count  502938.000000                         502938  502938.000000   \n",
       "mean       10.469269  2010-06-21 07:16:18.978084608       4.568358   \n",
       "min     -9600.000000            2009-12-01 07:45:00  -53594.360000   \n",
       "25%         1.000000            2010-03-16 13:00:00       1.250000   \n",
       "50%         3.000000            2010-06-27 13:29:00       2.100000   \n",
       "75%        10.000000            2010-10-07 11:46:00       4.210000   \n",
       "max     19152.000000            2010-11-30 19:35:00   25111.090000   \n",
       "std       108.678975                            NaN     143.818137   \n",
       "\n",
       "         Customer ID  \n",
       "count  402731.000000  \n",
       "mean    15352.163156  \n",
       "min     12346.000000  \n",
       "25%     13979.000000  \n",
       "50%     15311.000000  \n",
       "75%     16794.000000  \n",
       "max     18287.000000  \n",
       "std      1677.027739  "
      ]
     },
     "execution_count": 142,
     "metadata": {},
     "output_type": "execute_result"
    }
   ],
   "source": [
    "df.describe()\n",
    "#2009년 12월 1일부터 2010년 11월 30일까지"
   ]
  },
  {
   "cell_type": "markdown",
   "metadata": {},
   "source": [
    "### 전처리"
   ]
  },
  {
   "cell_type": "markdown",
   "metadata": {},
   "source": [
    "#### CustomerID가 결측인 행 삭제"
   ]
  },
  {
   "cell_type": "code",
   "execution_count": 143,
   "metadata": {},
   "outputs": [],
   "source": [
    "df = df[~df['Customer ID'].isna()]\n",
    "df['Customer ID'].isna().sum()\n",
    "df = df.reset_index(drop=True)\n",
    "df_NaN = df.copy()"
   ]
  },
  {
   "cell_type": "markdown",
   "metadata": {},
   "source": [
    "#### 취소된 주문 삭제"
   ]
  },
  {
   "cell_type": "code",
   "execution_count": 144,
   "metadata": {},
   "outputs": [],
   "source": [
    "Stock_len = df['StockCode'].astype(str).str.len()\n",
    "df = df[~(df['Invoice'].astype(str).str.startswith('C') )]\n",
    "df_C = df.copy()"
   ]
  },
  {
   "cell_type": "markdown",
   "metadata": {},
   "source": [
    "#### 변수명 변경"
   ]
  },
  {
   "cell_type": "code",
   "execution_count": 145,
   "metadata": {},
   "outputs": [],
   "source": [
    "df = df.rename(columns={'Invoice':'InvoiceNo','Customer ID':'CustomerID','Price':'UnitPrice'})"
   ]
  },
  {
   "cell_type": "code",
   "execution_count": 146,
   "metadata": {},
   "outputs": [
    {
     "name": "stdout",
     "output_type": "stream",
     "text": [
      "<class 'pandas.core.frame.DataFrame'>\n",
      "Index: 393190 entries, 0 to 402730\n",
      "Data columns (total 8 columns):\n",
      " #   Column       Non-Null Count   Dtype         \n",
      "---  ------       --------------   -----         \n",
      " 0   InvoiceNo    393190 non-null  object        \n",
      " 1   StockCode    393190 non-null  object        \n",
      " 2   Description  393190 non-null  object        \n",
      " 3   Quantity     393190 non-null  int64         \n",
      " 4   InvoiceDate  393190 non-null  datetime64[ns]\n",
      " 5   UnitPrice    393190 non-null  float64       \n",
      " 6   CustomerID   393190 non-null  float64       \n",
      " 7   Country      393190 non-null  object        \n",
      "dtypes: datetime64[ns](1), float64(2), int64(1), object(4)\n",
      "memory usage: 27.0+ MB\n"
     ]
    }
   ],
   "source": [
    "df.info()"
   ]
  },
  {
   "cell_type": "code",
   "execution_count": 147,
   "metadata": {},
   "outputs": [
    {
     "name": "stdout",
     "output_type": "stream",
     "text": [
      "상품 설명 변수의 결측치 개수: 0\n",
      "고객아이디 결측치 개수: 0\n"
     ]
    }
   ],
   "source": [
    "print('상품 설명 변수의 결측치 개수:',df['Description'].isna().sum())\n",
    "print('고객아이디 결측치 개수:',df['CustomerID'].isna().sum())"
   ]
  },
  {
   "cell_type": "markdown",
   "metadata": {},
   "source": [
    "#### 관리자 정보 제거"
   ]
  },
  {
   "cell_type": "code",
   "execution_count": 148,
   "metadata": {},
   "outputs": [],
   "source": [
    "# 따로 확인없이 2010년에서 있었던 관리자 정보 제거\n",
    "\n",
    "#M - Manual: 관리자 정보 + 해석불가\n",
    "df = df.drop(df[df['StockCode'] == 'M'].index)\n",
    "\n",
    "#D - DIscount, CRUK - Cancer Research UK 할인내역\n",
    "df = df.drop(df[df['StockCode'] == 'D'].index)\n",
    "df = df.drop(df[df['StockCode'] == 'CRUK'].index)\n",
    "\n",
    "#C2 - Carriage, DOT - DOTCOM POSTAGE, POST - POSTAGE: 배송료\n",
    "df = df.drop(df[df['StockCode'] == 'C2'].index)\n",
    "df = df.drop(df[df['StockCode'] == 'DOT'].index)\n",
    "df = df.drop(df[df['StockCode'] == 'POST'].index)\n",
    "\n",
    "#BANK CHARGES - Bank Charges: 소비 내역이 아님\n",
    "df = df.drop(df[df['StockCode'] == 'BANK CHARGES'].index)"
   ]
  },
  {
   "cell_type": "markdown",
   "metadata": {},
   "source": [
    "#### Description 하나로 통일"
   ]
  },
  {
   "cell_type": "code",
   "execution_count": 149,
   "metadata": {},
   "outputs": [
    {
     "name": "stdout",
     "output_type": "stream",
     "text": [
      "통일 전 Description\n",
      "1              3585\n",
      "2               394\n",
      "3                19\n",
      "4                 6\n",
      "Name: count, dtype: int64\n"
     ]
    }
   ],
   "source": [
    "SC_Dec_count_before = df[['StockCode','Description']].groupby('StockCode').nunique()\n",
    "print('통일 전',SC_Dec_count_before.value_counts()) #2,3,4자리를 한자리로 수정 필요"
   ]
  },
  {
   "cell_type": "code",
   "execution_count": 150,
   "metadata": {},
   "outputs": [
    {
     "data": {
      "text/plain": [
       "Index(['20750', '21523', '21524', '22139', '22191', '22200', '22201', '22333',\n",
       "       '22343', '22356', '22536', '22740', '22844', '22845', '22852', '22853',\n",
       "       '22952', '84509C', '85099B'],\n",
       "      dtype='object', name='StockCode')"
      ]
     },
     "execution_count": 150,
     "metadata": {},
     "output_type": "execute_result"
    }
   ],
   "source": [
    "SC_Dec_count_before[SC_Dec_count_before['Description'] == 3].index"
   ]
  },
  {
   "cell_type": "code",
   "execution_count": null,
   "metadata": {},
   "outputs": [],
   "source": [
    "df[df['StockCode']=='84509C']"
   ]
  },
  {
   "cell_type": "code",
   "execution_count": null,
   "metadata": {},
   "outputs": [],
   "source": [
    "df[df['StockCode']=='21524']"
   ]
  },
  {
   "cell_type": "code",
   "execution_count": 151,
   "metadata": {},
   "outputs": [
    {
     "name": "stdout",
     "output_type": "stream",
     "text": [
      "통일 후 Description\n",
      "1              4004\n",
      "Name: count, dtype: int64\n"
     ]
    }
   ],
   "source": [
    "for i in [2,3,4]: #2~4자리\n",
    "    for j in SC_Dec_count_before[SC_Dec_count_before['Description'] == i].index: #groupby를 해서 2~4자리인 애들의 index가 StockCode임\n",
    "        first_description = df.loc[df['StockCode'] == j, 'Description'].iloc[0] #StockCode가 일치하는 행 -> Description을 출력 후 맨 처음 값을 저장\n",
    "        df.loc[df['StockCode'] == j, 'Description'] = first_description #저장한 값을 StockCode가 일치하는 모든 Description으로 변경\n",
    "\n",
    "SC_Dec_count_after = df[['StockCode','Description']].groupby('StockCode').nunique()\n",
    "print('통일 후',SC_Dec_count_after.value_counts())"
   ]
  },
  {
   "cell_type": "markdown",
   "metadata": {},
   "source": [
    "### StockCode 확인"
   ]
  },
  {
   "cell_type": "code",
   "execution_count": 152,
   "metadata": {},
   "outputs": [
    {
     "data": {
      "text/plain": [
       "StockCode\n",
       "5    338024\n",
       "6     53120\n",
       "7       782\n",
       "4        14\n",
       "Name: count, dtype: int64"
      ]
     },
     "execution_count": 152,
     "metadata": {},
     "output_type": "execute_result"
    }
   ],
   "source": [
    "df['StockCode'].astype(str).str.len().value_counts()"
   ]
  },
  {
   "cell_type": "markdown",
   "metadata": {},
   "source": [
    "#### 4자리"
   ]
  },
  {
   "cell_type": "code",
   "execution_count": 153,
   "metadata": {},
   "outputs": [
    {
     "name": "stdout",
     "output_type": "stream",
     "text": [
      "StockCode\n",
      "PADS    14\n",
      "Name: count, dtype: int64\n"
     ]
    }
   ],
   "source": [
    "print(df[df['StockCode'].str.len() == 4]['StockCode'].value_counts())"
   ]
  },
  {
   "cell_type": "code",
   "execution_count": 154,
   "metadata": {},
   "outputs": [
    {
     "data": {
      "text/html": [
       "<div>\n",
       "<style scoped>\n",
       "    .dataframe tbody tr th:only-of-type {\n",
       "        vertical-align: middle;\n",
       "    }\n",
       "\n",
       "    .dataframe tbody tr th {\n",
       "        vertical-align: top;\n",
       "    }\n",
       "\n",
       "    .dataframe thead th {\n",
       "        text-align: right;\n",
       "    }\n",
       "</style>\n",
       "<table border=\"1\" class=\"dataframe\">\n",
       "  <thead>\n",
       "    <tr style=\"text-align: right;\">\n",
       "      <th></th>\n",
       "      <th>InvoiceNo</th>\n",
       "      <th>StockCode</th>\n",
       "      <th>Description</th>\n",
       "      <th>Quantity</th>\n",
       "      <th>InvoiceDate</th>\n",
       "      <th>UnitPrice</th>\n",
       "      <th>CustomerID</th>\n",
       "      <th>Country</th>\n",
       "    </tr>\n",
       "  </thead>\n",
       "  <tbody>\n",
       "    <tr>\n",
       "      <th>42940</th>\n",
       "      <td>494914</td>\n",
       "      <td>PADS</td>\n",
       "      <td>PADS TO MATCH ALL CUSHIONS</td>\n",
       "      <td>1</td>\n",
       "      <td>2010-01-19 17:04:00</td>\n",
       "      <td>0.001</td>\n",
       "      <td>16705.0</td>\n",
       "      <td>United Kingdom</td>\n",
       "    </tr>\n",
       "    <tr>\n",
       "      <th>52552</th>\n",
       "      <td>496222</td>\n",
       "      <td>PADS</td>\n",
       "      <td>PADS TO MATCH ALL CUSHIONS</td>\n",
       "      <td>1</td>\n",
       "      <td>2010-01-29 13:53:00</td>\n",
       "      <td>0.001</td>\n",
       "      <td>13583.0</td>\n",
       "      <td>United Kingdom</td>\n",
       "    </tr>\n",
       "    <tr>\n",
       "      <th>55049</th>\n",
       "      <td>496473</td>\n",
       "      <td>PADS</td>\n",
       "      <td>PADS TO MATCH ALL CUSHIONS</td>\n",
       "      <td>1</td>\n",
       "      <td>2010-02-01 15:38:00</td>\n",
       "      <td>0.001</td>\n",
       "      <td>17350.0</td>\n",
       "      <td>United Kingdom</td>\n",
       "    </tr>\n",
       "    <tr>\n",
       "      <th>56504</th>\n",
       "      <td>496643</td>\n",
       "      <td>PADS</td>\n",
       "      <td>PADS TO MATCH ALL CUSHIONS</td>\n",
       "      <td>1</td>\n",
       "      <td>2010-02-03 11:58:00</td>\n",
       "      <td>0.001</td>\n",
       "      <td>13408.0</td>\n",
       "      <td>United Kingdom</td>\n",
       "    </tr>\n",
       "    <tr>\n",
       "      <th>65381</th>\n",
       "      <td>497935</td>\n",
       "      <td>PADS</td>\n",
       "      <td>PADS TO MATCH ALL CUSHIONS</td>\n",
       "      <td>1</td>\n",
       "      <td>2010-02-15 10:47:00</td>\n",
       "      <td>0.001</td>\n",
       "      <td>13408.0</td>\n",
       "      <td>United Kingdom</td>\n",
       "    </tr>\n",
       "    <tr>\n",
       "      <th>70756</th>\n",
       "      <td>498562</td>\n",
       "      <td>PADS</td>\n",
       "      <td>PADS TO MATCH ALL CUSHIONS</td>\n",
       "      <td>1</td>\n",
       "      <td>2010-02-21 12:03:00</td>\n",
       "      <td>0.001</td>\n",
       "      <td>15182.0</td>\n",
       "      <td>United Kingdom</td>\n",
       "    </tr>\n",
       "    <tr>\n",
       "      <th>74401</th>\n",
       "      <td>499056</td>\n",
       "      <td>PADS</td>\n",
       "      <td>PADS TO MATCH ALL CUSHIONS</td>\n",
       "      <td>1</td>\n",
       "      <td>2010-02-24 13:46:00</td>\n",
       "      <td>0.001</td>\n",
       "      <td>13765.0</td>\n",
       "      <td>United Kingdom</td>\n",
       "    </tr>\n",
       "    <tr>\n",
       "      <th>76615</th>\n",
       "      <td>499399</td>\n",
       "      <td>PADS</td>\n",
       "      <td>PADS TO MATCH ALL CUSHIONS</td>\n",
       "      <td>1</td>\n",
       "      <td>2010-02-26 13:26:00</td>\n",
       "      <td>0.001</td>\n",
       "      <td>14459.0</td>\n",
       "      <td>United Kingdom</td>\n",
       "    </tr>\n",
       "    <tr>\n",
       "      <th>91855</th>\n",
       "      <td>501176</td>\n",
       "      <td>PADS</td>\n",
       "      <td>PADS TO MATCH ALL CUSHIONS</td>\n",
       "      <td>1</td>\n",
       "      <td>2010-03-15 11:00:00</td>\n",
       "      <td>0.001</td>\n",
       "      <td>14857.0</td>\n",
       "      <td>United Kingdom</td>\n",
       "    </tr>\n",
       "    <tr>\n",
       "      <th>118861</th>\n",
       "      <td>504332</td>\n",
       "      <td>PADS</td>\n",
       "      <td>PADS TO MATCH ALL CUSHIONS</td>\n",
       "      <td>1</td>\n",
       "      <td>2010-04-12 16:30:00</td>\n",
       "      <td>0.001</td>\n",
       "      <td>12671.0</td>\n",
       "      <td>Germany</td>\n",
       "    </tr>\n",
       "    <tr>\n",
       "      <th>136667</th>\n",
       "      <td>506303</td>\n",
       "      <td>PADS</td>\n",
       "      <td>PADS TO MATCH ALL CUSHIONS</td>\n",
       "      <td>1</td>\n",
       "      <td>2010-04-29 10:43:00</td>\n",
       "      <td>0.001</td>\n",
       "      <td>14249.0</td>\n",
       "      <td>United Kingdom</td>\n",
       "    </tr>\n",
       "    <tr>\n",
       "      <th>270270</th>\n",
       "      <td>522766</td>\n",
       "      <td>PADS</td>\n",
       "      <td>PADS TO MATCH ALL CUSHIONS</td>\n",
       "      <td>1</td>\n",
       "      <td>2010-09-16 13:58:00</td>\n",
       "      <td>0.001</td>\n",
       "      <td>15182.0</td>\n",
       "      <td>United Kingdom</td>\n",
       "    </tr>\n",
       "    <tr>\n",
       "      <th>354141</th>\n",
       "      <td>531433</td>\n",
       "      <td>PADS</td>\n",
       "      <td>PADS TO MATCH ALL CUSHIONS</td>\n",
       "      <td>1</td>\n",
       "      <td>2010-11-08 11:54:00</td>\n",
       "      <td>0.001</td>\n",
       "      <td>13317.0</td>\n",
       "      <td>United Kingdom</td>\n",
       "    </tr>\n",
       "    <tr>\n",
       "      <th>375374</th>\n",
       "      <td>533528</td>\n",
       "      <td>PADS</td>\n",
       "      <td>PADS TO MATCH ALL CUSHIONS</td>\n",
       "      <td>1</td>\n",
       "      <td>2010-11-17 15:08:00</td>\n",
       "      <td>0.001</td>\n",
       "      <td>15750.0</td>\n",
       "      <td>United Kingdom</td>\n",
       "    </tr>\n",
       "  </tbody>\n",
       "</table>\n",
       "</div>"
      ],
      "text/plain": [
       "       InvoiceNo StockCode                 Description  Quantity  \\\n",
       "42940     494914      PADS  PADS TO MATCH ALL CUSHIONS         1   \n",
       "52552     496222      PADS  PADS TO MATCH ALL CUSHIONS         1   \n",
       "55049     496473      PADS  PADS TO MATCH ALL CUSHIONS         1   \n",
       "56504     496643      PADS  PADS TO MATCH ALL CUSHIONS         1   \n",
       "65381     497935      PADS  PADS TO MATCH ALL CUSHIONS         1   \n",
       "70756     498562      PADS  PADS TO MATCH ALL CUSHIONS         1   \n",
       "74401     499056      PADS  PADS TO MATCH ALL CUSHIONS         1   \n",
       "76615     499399      PADS  PADS TO MATCH ALL CUSHIONS         1   \n",
       "91855     501176      PADS  PADS TO MATCH ALL CUSHIONS         1   \n",
       "118861    504332      PADS  PADS TO MATCH ALL CUSHIONS         1   \n",
       "136667    506303      PADS  PADS TO MATCH ALL CUSHIONS         1   \n",
       "270270    522766      PADS  PADS TO MATCH ALL CUSHIONS         1   \n",
       "354141    531433      PADS  PADS TO MATCH ALL CUSHIONS         1   \n",
       "375374    533528      PADS  PADS TO MATCH ALL CUSHIONS         1   \n",
       "\n",
       "               InvoiceDate  UnitPrice  CustomerID         Country  \n",
       "42940  2010-01-19 17:04:00      0.001     16705.0  United Kingdom  \n",
       "52552  2010-01-29 13:53:00      0.001     13583.0  United Kingdom  \n",
       "55049  2010-02-01 15:38:00      0.001     17350.0  United Kingdom  \n",
       "56504  2010-02-03 11:58:00      0.001     13408.0  United Kingdom  \n",
       "65381  2010-02-15 10:47:00      0.001     13408.0  United Kingdom  \n",
       "70756  2010-02-21 12:03:00      0.001     15182.0  United Kingdom  \n",
       "74401  2010-02-24 13:46:00      0.001     13765.0  United Kingdom  \n",
       "76615  2010-02-26 13:26:00      0.001     14459.0  United Kingdom  \n",
       "91855  2010-03-15 11:00:00      0.001     14857.0  United Kingdom  \n",
       "118861 2010-04-12 16:30:00      0.001     12671.0         Germany  \n",
       "136667 2010-04-29 10:43:00      0.001     14249.0  United Kingdom  \n",
       "270270 2010-09-16 13:58:00      0.001     15182.0  United Kingdom  \n",
       "354141 2010-11-08 11:54:00      0.001     13317.0  United Kingdom  \n",
       "375374 2010-11-17 15:08:00      0.001     15750.0  United Kingdom  "
      ]
     },
     "execution_count": 154,
     "metadata": {},
     "output_type": "execute_result"
    }
   ],
   "source": [
    "df[df['StockCode']=='PADS']"
   ]
  },
  {
   "cell_type": "markdown",
   "metadata": {},
   "source": [
    "    -> PADS : 정상 상품 코드 "
   ]
  },
  {
   "cell_type": "markdown",
   "metadata": {},
   "source": [
    "#### 7자리"
   ]
  },
  {
   "cell_type": "code",
   "execution_count": 155,
   "metadata": {},
   "outputs": [
    {
     "name": "stdout",
     "output_type": "stream",
     "text": [
      "StockCode\n",
      "15056BL    532\n",
      "79323LP    159\n",
      "79323GR     76\n",
      "TEST001     11\n",
      "ADJUST2      3\n",
      "TEST002      1\n",
      "Name: count, dtype: int64\n"
     ]
    }
   ],
   "source": [
    "print(df[df['StockCode'].str.len() == 7]['StockCode'].value_counts())"
   ]
  },
  {
   "cell_type": "markdown",
   "metadata": {},
   "source": [
    "    -> TEST001,TEST002,ADJUST2 -> 삭제\n",
    "    (아래 원하면 돌려보세요)\n",
    "    -> 15056BL, 79323LP, 79323GR : 정상 상품 코드"
   ]
  },
  {
   "cell_type": "code",
   "execution_count": null,
   "metadata": {},
   "outputs": [],
   "source": [
    "df[df['StockCode']=='TEST001']"
   ]
  },
  {
   "cell_type": "code",
   "execution_count": null,
   "metadata": {},
   "outputs": [],
   "source": [
    "df[df['StockCode']=='TEST002']"
   ]
  },
  {
   "cell_type": "code",
   "execution_count": null,
   "metadata": {},
   "outputs": [],
   "source": [
    "df[df['StockCode']=='ADJUST2']"
   ]
  },
  {
   "cell_type": "code",
   "execution_count": null,
   "metadata": {},
   "outputs": [],
   "source": [
    "df[df['StockCode']=='79323LP']"
   ]
  },
  {
   "cell_type": "code",
   "execution_count": null,
   "metadata": {},
   "outputs": [],
   "source": [
    "df[df['StockCode']=='79323GR']"
   ]
  },
  {
   "cell_type": "markdown",
   "metadata": {},
   "source": [
    "##### TEST001, TEST002,ADJUST2 삭제"
   ]
  },
  {
   "cell_type": "code",
   "execution_count": 156,
   "metadata": {},
   "outputs": [],
   "source": [
    "# TEST001\n",
    "df = df.drop(df[df['StockCode']=='TEST001'].index)\n",
    "# TEST002\n",
    "df = df.drop(df[df['StockCode']=='TEST002'].index)\n",
    "# ADJUST2\n",
    "df = df.drop(df[df['StockCode']=='ADJUST2'].index)"
   ]
  },
  {
   "cell_type": "code",
   "execution_count": 157,
   "metadata": {},
   "outputs": [
    {
     "data": {
      "text/plain": [
       "StockCode\n",
       "5    338024\n",
       "6     53120\n",
       "7       767\n",
       "4        14\n",
       "Name: count, dtype: int64"
      ]
     },
     "execution_count": 157,
     "metadata": {},
     "output_type": "execute_result"
    }
   ],
   "source": [
    "df['StockCode'].astype(str).str.len().value_counts()"
   ]
  },
  {
   "cell_type": "markdown",
   "metadata": {},
   "source": [
    "#### 6자리"
   ]
  },
  {
   "cell_type": "code",
   "execution_count": 158,
   "metadata": {},
   "outputs": [
    {
     "name": "stdout",
     "output_type": "stream",
     "text": [
      "StockCode\n",
      "85123A    3046\n",
      "85099B    1693\n",
      "82494L     981\n",
      "85099F     874\n",
      "85099C     814\n",
      "          ... \n",
      "35751D       1\n",
      "90004A       1\n",
      "71101A       1\n",
      "72751C       1\n",
      "90011A       1\n",
      "Name: count, Length: 1280, dtype: int64\n"
     ]
    }
   ],
   "source": [
    "print(df[df['StockCode'].str.len() == 6]['StockCode'].value_counts())"
   ]
  },
  {
   "cell_type": "code",
   "execution_count": 159,
   "metadata": {},
   "outputs": [],
   "source": [
    "# 6자리 중 앞 5자리가 모두 숫자인 StockCode를 확인\n",
    "numeric_stock_codes = df[(df['StockCode'].str.len() == 6) & (df['StockCode'].str[:5].str.isdigit())]"
   ]
  },
  {
   "cell_type": "code",
   "execution_count": 160,
   "metadata": {},
   "outputs": [
    {
     "data": {
      "text/plain": [
       "StockCode\n",
       "85123A    3046\n",
       "85099B    1693\n",
       "82494L     981\n",
       "85099F     874\n",
       "85099C     814\n",
       "          ... \n",
       "90152A       1\n",
       "79065A       1\n",
       "47348A       1\n",
       "90177A       1\n",
       "90011A       1\n",
       "Name: count, Length: 1278, dtype: int64"
      ]
     },
     "execution_count": 160,
     "metadata": {},
     "output_type": "execute_result"
    }
   ],
   "source": [
    "numeric_stock_codes['StockCode'].value_counts()"
   ]
  },
  {
   "cell_type": "code",
   "execution_count": 161,
   "metadata": {},
   "outputs": [
    {
     "data": {
      "text/plain": [
       "Series([], Name: count, dtype: int64)"
      ]
     },
     "execution_count": 161,
     "metadata": {},
     "output_type": "execute_result"
    }
   ],
   "source": [
    "# 6자리 중 앞 6자리가 모두 숫자인 StockCode를 확인\n",
    "Allnumeric_stock_codes = df[(df['StockCode'].str.len() == 6) & (df['StockCode'].str[:6].str.isdigit())]\n",
    "Allnumeric_stock_codes['StockCode'].value_counts()"
   ]
  },
  {
   "cell_type": "code",
   "execution_count": 162,
   "metadata": {},
   "outputs": [
    {
     "data": {
      "text/plain": [
       "StockCode\n",
       "ADJUST    32\n",
       "SP1002     2\n",
       "Name: count, dtype: int64"
      ]
     },
     "execution_count": 162,
     "metadata": {},
     "output_type": "execute_result"
    }
   ],
   "source": [
    "# 6자리 중 앞 5자리가 모두 숫자가 아닌 StockCode를 확인\n",
    "Nonnumeric_stock_codes = df[(df['StockCode'].str.len() == 6) & (~df['StockCode'].str[:5].str.isdigit())]\n",
    "Nonnumeric_stock_codes['StockCode'].value_counts()"
   ]
  },
  {
   "cell_type": "markdown",
   "metadata": {},
   "source": [
    "    1280개 중 2개는 앞자리 5개가 숫자가 아님"
   ]
  },
  {
   "cell_type": "code",
   "execution_count": null,
   "metadata": {},
   "outputs": [],
   "source": [
    "df[df['StockCode'] == 'SP1002']"
   ]
  },
  {
   "cell_type": "markdown",
   "metadata": {},
   "source": [
    "    ADJUST : 관리자 데이터 -> 삭제\n",
    "    SP1002 : 정상 상품 코드"
   ]
  },
  {
   "cell_type": "markdown",
   "metadata": {},
   "source": [
    "##### ADJUST 삭제"
   ]
  },
  {
   "cell_type": "code",
   "execution_count": 163,
   "metadata": {},
   "outputs": [],
   "source": [
    "df = df.drop(df[df['StockCode']=='ADJUST'].index)"
   ]
  },
  {
   "cell_type": "code",
   "execution_count": 164,
   "metadata": {},
   "outputs": [
    {
     "data": {
      "text/plain": [
       "StockCode\n",
       "SP1002    2\n",
       "Name: count, dtype: int64"
      ]
     },
     "execution_count": 164,
     "metadata": {},
     "output_type": "execute_result"
    }
   ],
   "source": [
    "# 6자리 중 앞 5자리가 모두 숫자가 아닌 StockCode를 확인\n",
    "Nonnumeric_stock_codes = df[(df['StockCode'].str.len() == 6) & (~df['StockCode'].str[:5].str.isdigit())]\n",
    "Nonnumeric_stock_codes['StockCode'].value_counts()"
   ]
  },
  {
   "cell_type": "code",
   "execution_count": 165,
   "metadata": {},
   "outputs": [
    {
     "data": {
      "text/plain": [
       "StockCode\n",
       "5    338024\n",
       "6     53088\n",
       "7       767\n",
       "4        14\n",
       "Name: count, dtype: int64"
      ]
     },
     "execution_count": 165,
     "metadata": {},
     "output_type": "execute_result"
    }
   ],
   "source": [
    "df['StockCode'].astype(str).str.len().value_counts()"
   ]
  },
  {
   "cell_type": "markdown",
   "metadata": {},
   "source": [
    "#### 5자리"
   ]
  },
  {
   "cell_type": "code",
   "execution_count": 166,
   "metadata": {},
   "outputs": [
    {
     "data": {
      "text/plain": [
       "Series([], Name: count, dtype: int64)"
      ]
     },
     "execution_count": 166,
     "metadata": {},
     "output_type": "execute_result"
    }
   ],
   "source": [
    "# 5자리 중 앞 5자리가 모두 숫자가 아닌 StockCode를 확인\n",
    "Nonnumeric_stock_codes = df[(df['StockCode'].str.len() == 5) & (~df['StockCode'].str[:65].str.isdigit())]\n",
    "Nonnumeric_stock_codes['StockCode'].value_counts()"
   ]
  },
  {
   "cell_type": "markdown",
   "metadata": {},
   "source": [
    "    -> 5자리 모두 정상 상품 코드"
   ]
  },
  {
   "cell_type": "markdown",
   "metadata": {},
   "source": [
    "### int 변환"
   ]
  },
  {
   "cell_type": "code",
   "execution_count": 167,
   "metadata": {},
   "outputs": [
    {
     "name": "stdout",
     "output_type": "stream",
     "text": [
      "<class 'pandas.core.frame.DataFrame'>\n",
      "Index: 391893 entries, 0 to 402730\n",
      "Data columns (total 8 columns):\n",
      " #   Column       Non-Null Count   Dtype         \n",
      "---  ------       --------------   -----         \n",
      " 0   InvoiceNo    391893 non-null  int64         \n",
      " 1   StockCode    391893 non-null  object        \n",
      " 2   Description  391893 non-null  object        \n",
      " 3   Quantity     391893 non-null  int64         \n",
      " 4   InvoiceDate  391893 non-null  datetime64[ns]\n",
      " 5   UnitPrice    391893 non-null  float64       \n",
      " 6   CustomerID   391893 non-null  int64         \n",
      " 7   Country      391893 non-null  object        \n",
      "dtypes: datetime64[ns](1), float64(1), int64(3), object(3)\n",
      "memory usage: 26.9+ MB\n"
     ]
    }
   ],
   "source": [
    "df['InvoiceNo'] = df['InvoiceNo'].astype(int)\n",
    "df['CustomerID'] = df['CustomerID'].astype(int)\n",
    "df.info()"
   ]
  },
  {
   "cell_type": "code",
   "execution_count": 169,
   "metadata": {},
   "outputs": [
    {
     "data": {
      "text/plain": [
       "InvoiceNo\n",
       "500356    270\n",
       "511522    255\n",
       "531382    251\n",
       "507235    250\n",
       "511051    248\n",
       "         ... \n",
       "493794      1\n",
       "526634      1\n",
       "493797      1\n",
       "526635      1\n",
       "511161      1\n",
       "Name: count, Length: 18192, dtype: int64"
      ]
     },
     "execution_count": 169,
     "metadata": {},
     "output_type": "execute_result"
    }
   ],
   "source": [
    "df['InvoiceNo'].value_counts()"
   ]
  },
  {
   "cell_type": "markdown",
   "metadata": {},
   "source": [
    "    27728 -> 18192  "
   ]
  },
  {
   "cell_type": "markdown",
   "metadata": {},
   "source": [
    "### 이상치 확인"
   ]
  },
  {
   "cell_type": "code",
   "execution_count": 170,
   "metadata": {},
   "outputs": [
    {
     "data": {
      "text/html": [
       "<div>\n",
       "<style scoped>\n",
       "    .dataframe tbody tr th:only-of-type {\n",
       "        vertical-align: middle;\n",
       "    }\n",
       "\n",
       "    .dataframe tbody tr th {\n",
       "        vertical-align: top;\n",
       "    }\n",
       "\n",
       "    .dataframe thead th {\n",
       "        text-align: right;\n",
       "    }\n",
       "</style>\n",
       "<table border=\"1\" class=\"dataframe\">\n",
       "  <thead>\n",
       "    <tr style=\"text-align: right;\">\n",
       "      <th></th>\n",
       "      <th>InvoiceNo</th>\n",
       "      <th>Quantity</th>\n",
       "      <th>InvoiceDate</th>\n",
       "      <th>UnitPrice</th>\n",
       "      <th>CustomerID</th>\n",
       "    </tr>\n",
       "  </thead>\n",
       "  <tbody>\n",
       "    <tr>\n",
       "      <th>count</th>\n",
       "      <td>391893.000000</td>\n",
       "      <td>391893.000000</td>\n",
       "      <td>391893</td>\n",
       "      <td>391893.000000</td>\n",
       "      <td>391893.000000</td>\n",
       "    </tr>\n",
       "    <tr>\n",
       "      <th>mean</th>\n",
       "      <td>513932.232308</td>\n",
       "      <td>13.717522</td>\n",
       "      <td>2010-06-25 15:07:11.791687680</td>\n",
       "      <td>2.989452</td>\n",
       "      <td>15365.106098</td>\n",
       "    </tr>\n",
       "    <tr>\n",
       "      <th>min</th>\n",
       "      <td>489434.000000</td>\n",
       "      <td>1.000000</td>\n",
       "      <td>2009-12-01 07:45:00</td>\n",
       "      <td>0.000000</td>\n",
       "      <td>12346.000000</td>\n",
       "    </tr>\n",
       "    <tr>\n",
       "      <th>25%</th>\n",
       "      <td>502259.000000</td>\n",
       "      <td>2.000000</td>\n",
       "      <td>2010-03-23 15:11:00</td>\n",
       "      <td>1.250000</td>\n",
       "      <td>13999.000000</td>\n",
       "    </tr>\n",
       "    <tr>\n",
       "      <th>50%</th>\n",
       "      <td>514355.000000</td>\n",
       "      <td>5.000000</td>\n",
       "      <td>2010-07-01 16:48:00</td>\n",
       "      <td>1.950000</td>\n",
       "      <td>15311.000000</td>\n",
       "    </tr>\n",
       "    <tr>\n",
       "      <th>75%</th>\n",
       "      <td>525959.000000</td>\n",
       "      <td>12.000000</td>\n",
       "      <td>2010-10-07 19:51:00</td>\n",
       "      <td>3.750000</td>\n",
       "      <td>16797.000000</td>\n",
       "    </tr>\n",
       "    <tr>\n",
       "      <th>max</th>\n",
       "      <td>536364.000000</td>\n",
       "      <td>19152.000000</td>\n",
       "      <td>2010-11-30 19:35:00</td>\n",
       "      <td>295.000000</td>\n",
       "      <td>18287.000000</td>\n",
       "    </tr>\n",
       "    <tr>\n",
       "      <th>std</th>\n",
       "      <td>13669.823658</td>\n",
       "      <td>98.335630</td>\n",
       "      <td>NaN</td>\n",
       "      <td>4.278152</td>\n",
       "      <td>1673.496150</td>\n",
       "    </tr>\n",
       "  </tbody>\n",
       "</table>\n",
       "</div>"
      ],
      "text/plain": [
       "           InvoiceNo       Quantity                    InvoiceDate  \\\n",
       "count  391893.000000  391893.000000                         391893   \n",
       "mean   513932.232308      13.717522  2010-06-25 15:07:11.791687680   \n",
       "min    489434.000000       1.000000            2009-12-01 07:45:00   \n",
       "25%    502259.000000       2.000000            2010-03-23 15:11:00   \n",
       "50%    514355.000000       5.000000            2010-07-01 16:48:00   \n",
       "75%    525959.000000      12.000000            2010-10-07 19:51:00   \n",
       "max    536364.000000   19152.000000            2010-11-30 19:35:00   \n",
       "std     13669.823658      98.335630                            NaN   \n",
       "\n",
       "           UnitPrice     CustomerID  \n",
       "count  391893.000000  391893.000000  \n",
       "mean        2.989452   15365.106098  \n",
       "min         0.000000   12346.000000  \n",
       "25%         1.250000   13999.000000  \n",
       "50%         1.950000   15311.000000  \n",
       "75%         3.750000   16797.000000  \n",
       "max       295.000000   18287.000000  \n",
       "std         4.278152    1673.496150  "
      ]
     },
     "execution_count": 170,
     "metadata": {},
     "output_type": "execute_result"
    }
   ],
   "source": [
    "df.describe()"
   ]
  },
  {
   "cell_type": "code",
   "execution_count": 171,
   "metadata": {},
   "outputs": [],
   "source": [
    "df.to_csv('./Online Retail_2009.csv', index = False)"
   ]
  },
  {
   "cell_type": "code",
   "execution_count": null,
   "metadata": {},
   "outputs": [],
   "source": []
  }
 ],
 "metadata": {
  "kernelspec": {
   "display_name": "Python 3",
   "language": "python",
   "name": "python3"
  },
  "language_info": {
   "codemirror_mode": {
    "name": "ipython",
    "version": 3
   },
   "file_extension": ".py",
   "mimetype": "text/x-python",
   "name": "python",
   "nbconvert_exporter": "python",
   "pygments_lexer": "ipython3",
   "version": "3.9.0"
  }
 },
 "nbformat": 4,
 "nbformat_minor": 2
}
